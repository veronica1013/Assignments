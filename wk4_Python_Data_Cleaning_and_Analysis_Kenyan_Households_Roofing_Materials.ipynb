{
  "nbformat": 4,
  "nbformat_minor": 0,
  "metadata": {
    "colab": {
      "name": "wk4_Python Data Cleaning and Analysis - Kenyan Households Roofing Materials",
      "provenance": [],
      "collapsed_sections": [
        "HToJZ2gBPawZ",
        "IICLGbvBRYHq",
        "RAVzK5O6IR8v",
        "R9S2o1WXIhq1",
        "LgLPmaP60MCY",
        "ogvHnWWk0URF",
        "4_l-hjNT0ljY",
        "Wg_HInjk0rJG",
        "po-2IDPd0vdL",
        "dr1eyGZzt83Z",
        "NicC8P9LMjvO"
      ],
      "toc_visible": true,
      "include_colab_link": true
    },
    "kernelspec": {
      "name": "python3",
      "display_name": "Python 3"
    }
  },
  "cells": [
    {
      "cell_type": "markdown",
      "metadata": {
        "id": "view-in-github",
        "colab_type": "text"
      },
      "source": [
        "<a href=\"https://colab.research.google.com/github/veronica1013/week4work/blob/main/wk4_Python_Data_Cleaning_and_Analysis_Kenyan_Households_Roofing_Materials.ipynb\" target=\"_parent\"><img src=\"https://colab.research.google.com/assets/colab-badge.svg\" alt=\"Open In Colab\"/></a>"
      ]
    },
    {
      "cell_type": "markdown",
      "metadata": {
        "id": "mh5V-mRF29qO"
      },
      "source": [
        "<font color=\"green\">*To start working on this notebook, or any other notebook that we will use in the Moringa Data Science Course, we will need to save our own copy of it. We can do this by clicking File > Save a Copy in Drive. We will then be able to make edits to our own copy of this notebook.*</font>"
      ]
    },
    {
      "cell_type": "markdown",
      "metadata": {
        "id": "m0tgCkvzPLEa"
      },
      "source": [
        "# Python Data Cleaning and Analysis - Kenyan Households Roofing Materials"
      ]
    },
    {
      "cell_type": "markdown",
      "metadata": {
        "id": "VSnOCZ5-IPCi"
      },
      "source": [
        "## 1.0 Importing our Libraries"
      ]
    },
    {
      "cell_type": "code",
      "metadata": {
        "id": "3r-KDLvrO44a"
      },
      "source": [
        "# Importing the libraries we will need \n",
        "\n",
        "# Importing the pandas library\n",
        "# \n",
        "OUR CODE GOES HERE\n",
        "\n",
        "# Importing the numpy library\n",
        "#\n",
        "OUR CODE GOES HERE"
      ],
      "execution_count": null,
      "outputs": []
    },
    {
      "cell_type": "markdown",
      "metadata": {
        "id": "HToJZ2gBPawZ"
      },
      "source": [
        "## 1.1 Reading the Dataset from our CSV file\n",
        "\n"
      ]
    },
    {
      "cell_type": "markdown",
      "metadata": {
        "id": "LBUr8VUXQX-K"
      },
      "source": [
        "\n",
        "\n",
        "The dataset we will use contains Kenyan households by the main type of Roofing Material for the main dwelling unit for 2009.\n",
        "\n",
        "\n",
        "\n",
        "*   Dataset link for download or access: [Link](https://drive.google.com/a/moringaschool.com/file/d/1Mij0eAI8CHzanECX-n4Cv20N0A_whueJ/view?usp=sharing)\n",
        "\n",
        "\n",
        "\n"
      ]
    },
    {
      "cell_type": "code",
      "metadata": {
        "id": "1acwmZanRNHs"
      },
      "source": [
        "# Let's read the data from the CSV file and create the dataframe to be used\n",
        "# \n",
        "OUR CODE GOES HERE"
      ],
      "execution_count": null,
      "outputs": []
    },
    {
      "cell_type": "markdown",
      "metadata": {
        "id": "IICLGbvBRYHq"
      },
      "source": [
        "## 1.2 Previewing our Dataset\n"
      ]
    },
    {
      "cell_type": "code",
      "metadata": {
        "id": "WrwHg-hzR5BY"
      },
      "source": [
        "# Let's preview the first 10 rows of our data\n",
        "# \n",
        "OUR CODE GOES HERE"
      ],
      "execution_count": null,
      "outputs": []
    },
    {
      "cell_type": "markdown",
      "metadata": {
        "id": "RAVzK5O6IR8v"
      },
      "source": [
        "## 1.3 Accessing Information about our Dataset"
      ]
    },
    {
      "cell_type": "markdown",
      "metadata": {
        "id": "5W7cyaIpJdaC"
      },
      "source": [
        "We might need to convert columns to the respective datatypes ie. if there are payment columns we could convert them from string to float. This observation can be made by accessing information about the dataset."
      ]
    },
    {
      "cell_type": "code",
      "metadata": {
        "id": "0d2kfemDIYWI"
      },
      "source": [
        "# Getting to know more about the dataset by accessing its information\n",
        "#\n",
        "OUR CODE GOES HERE"
      ],
      "execution_count": null,
      "outputs": []
    },
    {
      "cell_type": "markdown",
      "metadata": {
        "id": "R9S2o1WXIhq1"
      },
      "source": [
        "## 1.4 Cleaning our Dataset"
      ]
    },
    {
      "cell_type": "markdown",
      "metadata": {
        "id": "AsBK7q0M0B5p"
      },
      "source": [
        "Let us perform data cleaning procedures below providing a documentation for our actions. We will perform as many data cleaning procedures as we think suitable for the various dimensions of data."
      ]
    },
    {
      "cell_type": "markdown",
      "metadata": {
        "id": "LgLPmaP60MCY"
      },
      "source": [
        "### 1.41) Validity: <font color=\"green\">Challenges</font>"
      ]
    },
    {
      "cell_type": "code",
      "metadata": {
        "id": "Xu8_fwqE0S_1"
      },
      "source": [
        "# Procedure 1:\n",
        "# Data Cleaning Action:\n",
        "# Explanation:\n",
        "#\n",
        "OUR CODE GOES HERE"
      ],
      "execution_count": null,
      "outputs": []
    },
    {
      "cell_type": "code",
      "metadata": {
        "id": "8n6lZYUT0X8O"
      },
      "source": [
        "# Procedure 2:\n",
        "# Data Cleaning Action:\n",
        "# Explanation:\n",
        "#\n",
        "OUR CODE GOES HERE"
      ],
      "execution_count": null,
      "outputs": []
    },
    {
      "cell_type": "code",
      "metadata": {
        "id": "3Hegrubg0Zns"
      },
      "source": [
        "# Procedure 3:\n",
        "# Data Cleaning Action:\n",
        "# Explanation:\n",
        "#\n",
        "OUR CODE GOES HERE"
      ],
      "execution_count": null,
      "outputs": []
    },
    {
      "cell_type": "markdown",
      "metadata": {
        "id": "ogvHnWWk0URF"
      },
      "source": [
        "### 1.42) Accuracy <font color=\"green\">Challenges</font>"
      ]
    },
    {
      "cell_type": "code",
      "metadata": {
        "id": "fGR0p3580fCX"
      },
      "source": [
        "# Procedure 1:\n",
        "# Data Cleaning Action:\n",
        "# Explanation:\n",
        "#\n",
        "OUR CODE GOES HERE"
      ],
      "execution_count": null,
      "outputs": []
    },
    {
      "cell_type": "code",
      "metadata": {
        "id": "dPvSUWLY0gNF"
      },
      "source": [
        "# Procedure 2:\n",
        "# Data Cleaning Action:\n",
        "# Explanation:\n",
        "#\n",
        "OUR CODE GOES HERE"
      ],
      "execution_count": null,
      "outputs": []
    },
    {
      "cell_type": "markdown",
      "metadata": {
        "id": "4_l-hjNT0ljY"
      },
      "source": [
        "### 1.43) Completeness <font color=\"green\">Challenges</font>"
      ]
    },
    {
      "cell_type": "code",
      "metadata": {
        "id": "r0QLHD0P0nN3"
      },
      "source": [
        "# Procedure 1:\n",
        "# Data Cleaning Action:\n",
        "# Explanation:\n",
        "#\n",
        "OUR CODE GOES HERE"
      ],
      "execution_count": null,
      "outputs": []
    },
    {
      "cell_type": "code",
      "metadata": {
        "id": "GchjhobG0nu8"
      },
      "source": [
        "# Procedure 2:\n",
        "# Data Cleaning Action:\n",
        "# Explanation:\n",
        "#\n",
        "OUR CODE GOES HERE"
      ],
      "execution_count": null,
      "outputs": []
    },
    {
      "cell_type": "markdown",
      "metadata": {
        "id": "Wg_HInjk0rJG"
      },
      "source": [
        "### 1.44) Consitency: <font color=\"green\">Challenges</font>"
      ]
    },
    {
      "cell_type": "code",
      "metadata": {
        "id": "_xg4tFiZ0sTN"
      },
      "source": [
        "# Procedure 1:\n",
        "# Data Cleaning Action:\n",
        "# Explanation:\n",
        "#\n",
        "OUR CODE GOES HERE"
      ],
      "execution_count": null,
      "outputs": []
    },
    {
      "cell_type": "markdown",
      "metadata": {
        "id": "po-2IDPd0vdL"
      },
      "source": [
        "### 1.45) Uniformity: <font color=\"green\">Challenges<font/>"
      ]
    },
    {
      "cell_type": "code",
      "metadata": {
        "id": "oRw7Ow5-0wZM"
      },
      "source": [
        "# Procedure 1:\n",
        "# Data Cleaning Action:\n",
        "# Explanation:\n",
        "#\n",
        "OUR CODE GOES HERE"
      ],
      "execution_count": null,
      "outputs": []
    },
    {
      "cell_type": "code",
      "metadata": {
        "id": "-3HTVQkC0xxj"
      },
      "source": [
        "# Procedure 2:\n",
        "# Data Cleaning Action:\n",
        "# Explanation:\n",
        "#\n",
        "OUR CODE GOES HERE"
      ],
      "execution_count": null,
      "outputs": []
    },
    {
      "cell_type": "markdown",
      "metadata": {
        "id": "dr1eyGZzt83Z"
      },
      "source": [
        "### Exporting the Cleaned Dataset"
      ]
    },
    {
      "cell_type": "code",
      "metadata": {
        "id": "igd8ULk7t95C"
      },
      "source": [
        "# Let's export our dataframe into a csv file as shown \n",
        "# in the example given in the following line;\n",
        "# daframe.to_csv('example.csv')\n",
        "# In the above case daframe is the dataframe which would like to export.\n",
        "# we use the to_csv function to create a csv file with the name example \n",
        "# and export it\n",
        "#\n",
        "OUR CODE GOES HERE"
      ],
      "execution_count": null,
      "outputs": []
    },
    {
      "cell_type": "markdown",
      "metadata": {
        "id": "NicC8P9LMjvO"
      },
      "source": [
        "## 1.5 Answering Questions"
      ]
    },
    {
      "cell_type": "markdown",
      "metadata": {
        "id": "8izhaW7UNYGJ"
      },
      "source": [
        "Let's answer the following questions with our dataset"
      ]
    },
    {
      "cell_type": "code",
      "metadata": {
        "id": "tTOgnXvuMxcn"
      },
      "source": [
        "# Challenge 1\n",
        "# Find out the most popular type of household material for urban regions.\n",
        "# \n",
        "OUR CODE GOES HERE"
      ],
      "execution_count": null,
      "outputs": []
    },
    {
      "cell_type": "code",
      "metadata": {
        "id": "BNegesaWNvQs"
      },
      "source": [
        "# Challenge 2\n",
        "# Find out the least popular type of household material for urban regions.\n",
        "#\n",
        "OUR CODE GOES HERE"
      ],
      "execution_count": null,
      "outputs": []
    },
    {
      "cell_type": "code",
      "metadata": {
        "id": "7tilTerhNyiP"
      },
      "source": [
        "# Challenge 3\n",
        "# Find out the most popular type of households material in the urban regions of Nairobi.\n",
        "# \n",
        "OUR CODE GOES HERE"
      ],
      "execution_count": null,
      "outputs": []
    },
    {
      "cell_type": "code",
      "metadata": {
        "id": "rhXeHa6IOBsq"
      },
      "source": [
        "# Challenge 4\n",
        "# Find out the least popular type of households material in rural regions of Nairobi.\n",
        "# \n",
        "OUR CODE GOES HERE"
      ],
      "execution_count": null,
      "outputs": []
    },
    {
      "cell_type": "code",
      "metadata": {
        "id": "wddDP6yCOD_F"
      },
      "source": [
        "# Challenge 5\n",
        "# Find out the average no. of tiling households.\n",
        "# \n",
        "OUR CODE GOES HERE"
      ],
      "execution_count": null,
      "outputs": []
    },
    {
      "cell_type": "code",
      "metadata": {
        "id": "OemJ0HDYOHCq"
      },
      "source": [
        "# Challenge 6\n",
        "# Which county has the highest no. of grass households?\n",
        "# \n",
        "OUR CODE GOES HERE"
      ],
      "execution_count": null,
      "outputs": []
    },
    {
      "cell_type": "code",
      "metadata": {
        "id": "CIxC5arSOLak"
      },
      "source": [
        "# Challenge 7\n",
        "# Which top 5 counties have the highest no of households made of iron sheets ?\n",
        "# \n",
        "OUR CODE GOES HERE"
      ],
      "execution_count": null,
      "outputs": []
    },
    {
      "cell_type": "code",
      "metadata": {
        "id": "gSjjnw56OP8O"
      },
      "source": [
        "# Challenge 8\n",
        "# What is the average no. of households in Kenya?\n",
        "# \n",
        "OUR CODE GOES HERE"
      ],
      "execution_count": null,
      "outputs": []
    },
    {
      "cell_type": "code",
      "metadata": {
        "id": "UZLYqF7UOTtu"
      },
      "source": [
        "# Challenge 9\n",
        "# Which county has the most no. of households made of dung?\n",
        "# \n",
        "OUR CODE GOES HERE"
      ],
      "execution_count": null,
      "outputs": []
    },
    {
      "cell_type": "code",
      "metadata": {
        "id": "1qk8wF3MOXDu"
      },
      "source": [
        "# Challenge 10\n",
        "# In ascending order, which top 3 counties have the highest no. of households with makuti?\n",
        "# \n",
        "OUR CODE GOES HERE"
      ],
      "execution_count": null,
      "outputs": []
    },
    {
      "cell_type": "code",
      "metadata": {
        "id": "8xkStdjdXS3w"
      },
      "source": [
        "# Challenge 11\n",
        "# What is the no. of Makuti households in urban regions?\n",
        "#\n",
        "OUR CODE GOES HERE"
      ],
      "execution_count": null,
      "outputs": []
    },
    {
      "cell_type": "code",
      "metadata": {
        "id": "rgVsXH_5XVCh"
      },
      "source": [
        "# Challenge 12\n",
        "# What is the no. of Makuti households in the rural regions of Kisumu county?\n",
        "#\n",
        "OUR CODE GOES HERE"
      ],
      "execution_count": null,
      "outputs": []
    },
    {
      "cell_type": "code",
      "metadata": {
        "id": "XvvFWhuDXXeP"
      },
      "source": [
        "# Challenge 13\n",
        "# What percentage of households in Kenya are concrete?\n",
        "#\n",
        "OUR CODE GOES HERE"
      ],
      "execution_count": null,
      "outputs": []
    },
    {
      "cell_type": "code",
      "metadata": {
        "id": "q1iq02FuXc2R"
      },
      "source": [
        "# Challenge 14\n",
        "# Which top 3 districts have the highest no. of grass and makuti households?\n",
        "#\n",
        "OUR CODE GOES HERE"
      ],
      "execution_count": null,
      "outputs": []
    },
    {
      "cell_type": "code",
      "metadata": {
        "id": "drAWpxBZXhcF"
      },
      "source": [
        "# Challenge 15 \n",
        "# What is the households distribution of iron sheets, mud/dung, tin, \n",
        "# makuti, grass, sheets, concrete, tiles for Baringa County?\n",
        "# \n",
        "OUR CODE GOES HERE"
      ],
      "execution_count": null,
      "outputs": []
    }
  ]
}